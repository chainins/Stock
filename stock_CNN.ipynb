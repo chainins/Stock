{
 "cells": [
  {
   "cell_type": "code",
   "execution_count": 1,
   "id": "1b073a1e",
   "metadata": {},
   "outputs": [],
   "source": [
    "# -*- coding: utf-8 -*-\n",
    "\n",
    "###############################################\n",
    "#                                             #\n",
    "#     Created on Wed Jan 19 11:16:00 2022     #\n",
    "#         @author: Chengpi Wu                 #\n",
    "#                                             #\n",
    "###############################################\n",
    "\n",
    "# import stockDB as sd\n",
    "# da = sd.StockDB()\n",
    "# import FredData\n",
    "# da.importFredData()"
   ]
  },
  {
   "cell_type": "code",
   "execution_count": 2,
   "id": "18464bec",
   "metadata": {},
   "outputs": [
    {
     "ename": "ModuleNotFoundError",
     "evalue": "No module named 'yfinance'",
     "output_type": "error",
     "traceback": [
      "\u001b[1;31m---------------------------------------------------------------------------\u001b[0m",
      "\u001b[1;31mModuleNotFoundError\u001b[0m                       Traceback (most recent call last)",
      "\u001b[1;32m~\\AppData\\Local\\Temp/ipykernel_2088/4231043597.py\u001b[0m in \u001b[0;36m<module>\u001b[1;34m\u001b[0m\n\u001b[0;32m      5\u001b[0m \u001b[1;33m\u001b[0m\u001b[0m\n\u001b[0;32m      6\u001b[0m \u001b[1;31m# import libraries coded before\u001b[0m\u001b[1;33m\u001b[0m\u001b[1;33m\u001b[0m\u001b[1;33m\u001b[0m\u001b[0m\n\u001b[1;32m----> 7\u001b[1;33m \u001b[1;32mimport\u001b[0m \u001b[0mstockMatrix\u001b[0m \u001b[1;32mas\u001b[0m \u001b[0msm\u001b[0m\u001b[1;33m\u001b[0m\u001b[1;33m\u001b[0m\u001b[0m\n\u001b[0m\u001b[0;32m      8\u001b[0m \u001b[1;32mimport\u001b[0m \u001b[0mstockDB\u001b[0m \u001b[1;32mas\u001b[0m \u001b[0msd\u001b[0m\u001b[1;33m\u001b[0m\u001b[1;33m\u001b[0m\u001b[0m\n\u001b[0;32m      9\u001b[0m \u001b[1;33m\u001b[0m\u001b[0m\n",
      "\u001b[1;32m~\\00stock\\stockMatrix.py\u001b[0m in \u001b[0;36m<module>\u001b[1;34m\u001b[0m\n\u001b[0;32m     15\u001b[0m \u001b[1;32mimport\u001b[0m \u001b[0mpandas\u001b[0m \u001b[1;32mas\u001b[0m \u001b[0mpd\u001b[0m\u001b[1;33m\u001b[0m\u001b[1;33m\u001b[0m\u001b[0m\n\u001b[0;32m     16\u001b[0m \u001b[1;33m\u001b[0m\u001b[0m\n\u001b[1;32m---> 17\u001b[1;33m \u001b[1;32mimport\u001b[0m \u001b[0mstockDB\u001b[0m \u001b[1;32mas\u001b[0m \u001b[0msd\u001b[0m\u001b[1;33m\u001b[0m\u001b[1;33m\u001b[0m\u001b[0m\n\u001b[0m\u001b[0;32m     18\u001b[0m \u001b[1;33m\u001b[0m\u001b[0m\n\u001b[0;32m     19\u001b[0m \u001b[1;32mimport\u001b[0m \u001b[0mmatplotlib\u001b[0m\u001b[1;33m\u001b[0m\u001b[1;33m\u001b[0m\u001b[0m\n",
      "\u001b[1;32m~\\00stock\\stockDB.py\u001b[0m in \u001b[0;36m<module>\u001b[1;34m\u001b[0m\n\u001b[0;32m     26\u001b[0m \u001b[1;33m\u001b[0m\u001b[0m\n\u001b[0;32m     27\u001b[0m \u001b[1;33m\u001b[0m\u001b[0m\n\u001b[1;32m---> 28\u001b[1;33m \u001b[1;32mimport\u001b[0m \u001b[0myfinance\u001b[0m \u001b[1;32mas\u001b[0m \u001b[0myf\u001b[0m\u001b[1;33m\u001b[0m\u001b[1;33m\u001b[0m\u001b[0m\n\u001b[0m\u001b[0;32m     29\u001b[0m \u001b[1;32mfrom\u001b[0m \u001b[0mpandas_datareader\u001b[0m \u001b[1;32mimport\u001b[0m  \u001b[0mdata\u001b[0m \u001b[1;32mas\u001b[0m \u001b[0mpdr\u001b[0m\u001b[1;33m\u001b[0m\u001b[1;33m\u001b[0m\u001b[0m\n\u001b[0;32m     30\u001b[0m \u001b[1;33m\u001b[0m\u001b[0m\n",
      "\u001b[1;31mModuleNotFoundError\u001b[0m: No module named 'yfinance'"
     ]
    }
   ],
   "source": [
    "\n",
    "import matplotlib.pyplot as plt\n",
    "import pandas as pd\n",
    "import numpy as np\n",
    "\n",
    "\n",
    "# import libraries coded before\n",
    "import stockMatrix as sm\n",
    "import stockDB as sd\n",
    "\n",
    "import os\n",
    "\n",
    "CURRENT_DIR = os. getcwd() \n",
    "\n",
    "pd.options.display.max_columns= 999\n",
    "plt.rcParams['font.family'] = 'DeJavu Serif'\n",
    "plt.rcParams['font.serif'] = ['Times New Roman']\n",
    "\n",
    "import sys\n",
    "###############################################\n",
    "#                                             #\n",
    "#   Step 1. Collect Data                      #\n",
    "#                                             #\n",
    "###############################################\n",
    "import timeit\n",
    "\n",
    "start = timeit.default_timer()\n",
    "\n",
    "da = sd.StockDB()\n",
    "da.checkN100Data()\n",
    "\n"
   ]
  },
  {
   "cell_type": "code",
   "execution_count": null,
   "id": "9f0df480",
   "metadata": {},
   "outputs": [],
   "source": [
    "# da.loadStockPrice('QQQ')"
   ]
  },
  {
   "cell_type": "code",
   "execution_count": null,
   "id": "d40a54dc",
   "metadata": {},
   "outputs": [],
   "source": [
    "# da.loadStockPrice('TLT')"
   ]
  },
  {
   "cell_type": "code",
   "execution_count": null,
   "id": "92196ac6",
   "metadata": {},
   "outputs": [],
   "source": [
    "\n",
    "symbolList=['DGS20','DGS30','M1SL','M2SL','QQQ','TLT']\n",
    "\n",
    "dayData,actionData = da.prepareData(symbolList)\n",
    "\n",
    "\n",
    "print(dayData.shape)\n",
    "# print(dayData.head(5))\n",
    "print(dayData.columns)\n"
   ]
  },
  {
   "cell_type": "code",
   "execution_count": null,
   "id": "59f4eebe",
   "metadata": {},
   "outputs": [],
   "source": [
    "dayData.insert(0, 'timeseries', range(0, len(dayData)))\n",
    "print(dayData.head(5))"
   ]
  },
  {
   "cell_type": "code",
   "execution_count": null,
   "id": "f0ea870e",
   "metadata": {},
   "outputs": [],
   "source": [
    "print(dayData['Date'].min(),dayData['Date'].max())\n",
    "dayData.dropna(axis = 0, inplace =True)\n",
    "# print(dayData.tail(10))\n",
    "print(dayData['Date'].min(),dayData['Date'].max())"
   ]
  },
  {
   "cell_type": "code",
   "execution_count": null,
   "id": "f9fc1de9",
   "metadata": {},
   "outputs": [],
   "source": [
    "\n",
    "goalDays =[]\n",
    "testData =[]\n",
    "goalData =[]\n",
    "for i in range(len(actionData)):\n",
    "    print(actionData[i].shape)\n",
    "    # print(goalData[i].head(3))\n",
    "    goalData.append(actionData[i][(actionData[i]['Date'] >= '2003-01-01') & (actionData[i]['Date'] <= '2019-12-31') ]) # get the data segment\n",
    "    testData.append(actionData[i][actionData[i]['Date'] > '2019-12-31' ].copy())  # get the data segment of test  \n",
    "    print(goalData[i][['Date']].head(5))\n",
    "    print(goalData[i].shape)\n",
    "    print(testData[i].shape)\n",
    "\n",
    "print(goalData[0].columns)\n",
    "# goalData is the target data of training data \n",
    "# testData is the target data of testing data"
   ]
  },
  {
   "cell_type": "code",
   "execution_count": null,
   "id": "7366e065",
   "metadata": {},
   "outputs": [],
   "source": [
    "\n",
    "# ###############################################\n",
    "# #                                             #\n",
    "# #   Step 2. Prepare Data                      #\n",
    "# #                                             #\n",
    "# ###############################################\n",
    "\n",
    "periodList = ['Week','Month','Season','Year']\n",
    "\n",
    "dataset_X = []\n",
    "dataset_Y = []\n",
    "dataset_XY = []\n",
    "\n",
    "testset_X = []\n",
    "testset_Y = []\n",
    "testset_XY = []\n",
    "\n",
    "print(dayData.shape)\n",
    "\n",
    "for i in range(0,4):\n",
    "    print('#'*80)\n",
    "    print(periodList[i] + ' Data')\n",
    "    print(goalData[i].shape)\n",
    "    # print(goalData[i].tail(10))\n",
    "    print(dayData.shape)\n",
    "    # print(goalData[i].tail(1))\n",
    "    print(goalData[i]['Date'].min(),goalData[i]['Date'].max())\n",
    "    # print(dayData.tail(1))\n",
    "    print(dayData['Date'].min(),dayData['Date'].max())\n",
    "    data_XY = pd.merge(goalData[i],dayData,on='Date',how='left') #.drop(['Date'], axis=1)\n",
    "    data_XY.dropna(axis = 0, inplace =True)\n",
    "    print(data_XY.shape)\n",
    "    print('-'*80)\n",
    "    print(data_XY.isna().values.any())\n",
    "    print(data_XY.isna().count())\n",
    "    \n",
    "    print(data_XY[data_XY.isnull().T.any()])\n",
    "    data_XY.dropna(axis = 0, inplace =True) # clear???\n",
    "    print(data_XY.shape)\n",
    "    # print(data_XY.tail(5))\n",
    "    data_Y = data_XY[['TLT_buy_signal']]\n",
    "    data_X = data_XY.drop(['Date','Day_QQQ','Day_TLT','TLT_buy_signal'], axis=1)\n",
    "    data_XY.drop(['Date','Day_QQQ','Day_TLT'], axis=1,inplace =True)\n",
    "    \n",
    "\n",
    "    # data_Y = goalData[i].drop(['Date'], axis=1)\n",
    "    # print(data_X.head(10))\n",
    "    print(data_X.shape)\n",
    "    print(data_Y.shape)   \n",
    "    dataset_X.append(data_X)\n",
    "    dataset_Y.append(data_Y)\n",
    "    dataset_XY.append(data_XY)\n",
    "\n",
    "    print('*'*80)\n",
    "    print(dayData.shape)\n",
    "    print(testData[i].shape)\n",
    "\n",
    "\n",
    "    test_XY = pd.merge(testData[i],dayData,on='Date',how='left') #.drop(['Date'], axis=1)\n",
    "    test_XY.dropna(axis = 0, inplace =True)\n",
    "    test_Y = test_XY[['TLT_buy_signal']]\n",
    "    test_X = test_XY.drop(['Date','Day_QQQ','Day_TLT','TLT_buy_signal'], axis=1)\n",
    "    test_XY.drop(['Date','Day_QQQ','Day_TLT'], axis=1,inplace =True)\n",
    "    print(test_X.shape)\n",
    "    print(test_Y.shape)   \n",
    "    testset_X.append(test_X)\n",
    "    testset_Y.append(test_Y)\n",
    "    testset_XY.append(test_XY)\n",
    "\n",
    "# data_X,data_Y is the training data\n",
    "# test_X,test_Y is the testing data\n",
    "\n",
    "\n"
   ]
  },
  {
   "cell_type": "code",
   "execution_count": null,
   "id": "2f365f4d",
   "metadata": {},
   "outputs": [],
   "source": [
    "\n",
    "\n",
    "###############################################\n",
    "#                                             #\n",
    "#   Step 3. Choose Model                      #\n",
    "#                                             #\n",
    "###############################################\n",
    "\n",
    "import tensorflow as tf\n",
    "\n",
    "# conda install tensorflow-estimator==2.4.1\n",
    "tf.__version__\n",
    "help(tf.estimator)\n"
   ]
  },
  {
   "cell_type": "code",
   "execution_count": null,
   "id": "d2e96d1d",
   "metadata": {},
   "outputs": [],
   "source": [
    "import os\n",
    "os.environ['TF_XLA_FLAGS'] = '--tf_xla_enable_xla_devices'\n",
    "os.environ['TF_CPP_MIN_LOG_LEVEL']='2'\n",
    "print('tensorflow version:', tf.__version__) # 2.4.1\n"
   ]
  },
  {
   "cell_type": "code",
   "execution_count": null,
   "id": "143a7180",
   "metadata": {},
   "outputs": [],
   "source": [
    "\n",
    "k = 0\n",
    "# 0,1,2,3 --> week,month,season,year\n",
    "\n",
    "data_X = dataset_X[k]\n",
    "data_Y = dataset_Y[k]\n",
    "data_XY = dataset_XY[k]\n",
    "\n",
    "test_X = testset_X[k]\n",
    "test_Y = testset_Y[k]\n",
    "test_XY = testset_XY[k]\n",
    "\n",
    "data_XY.dtypes\n"
   ]
  },
  {
   "cell_type": "code",
   "execution_count": null,
   "id": "dd3c3f5a",
   "metadata": {},
   "outputs": [],
   "source": [
    "df = data_XY.copy()\n",
    "df.shape"
   ]
  },
  {
   "cell_type": "code",
   "execution_count": null,
   "id": "25193d73",
   "metadata": {},
   "outputs": [],
   "source": [
    "df.info(verbose=True)\n",
    "df.dtypes"
   ]
  },
  {
   "cell_type": "code",
   "execution_count": null,
   "id": "fb6395d8",
   "metadata": {},
   "outputs": [],
   "source": [
    "len(df)"
   ]
  },
  {
   "cell_type": "code",
   "execution_count": null,
   "id": "0d6792d3",
   "metadata": {},
   "outputs": [],
   "source": [
    "pd.options.display.max_columns= 999\n",
    "df.columns\n"
   ]
  },
  {
   "cell_type": "code",
   "execution_count": null,
   "id": "6e862934",
   "metadata": {},
   "outputs": [],
   "source": [
    "len(df)"
   ]
  },
  {
   "cell_type": "code",
   "execution_count": null,
   "id": "3aef4e68",
   "metadata": {},
   "outputs": [],
   "source": [
    "df.tail(2)             "
   ]
  },
  {
   "cell_type": "code",
   "execution_count": null,
   "id": "7fd287dd",
   "metadata": {},
   "outputs": [],
   "source": [
    "# df = np.asarray(df).astype('float32')\n",
    "# df = pd.DataFrame(df)\n",
    "\n"
   ]
  },
  {
   "cell_type": "code",
   "execution_count": null,
   "id": "ca40e7cc",
   "metadata": {},
   "outputs": [],
   "source": [
    "df[df.select_dtypes('float64').columns] = df.select_dtypes('float64').astype(np.float32)\n",
    "df.head(2)"
   ]
  },
  {
   "cell_type": "code",
   "execution_count": null,
   "id": "ded11fe4",
   "metadata": {},
   "outputs": [],
   "source": [
    "target = df.pop('TLT_buy_signal')\n",
    "target.head(2)"
   ]
  },
  {
   "cell_type": "code",
   "execution_count": null,
   "id": "bf66bb17",
   "metadata": {},
   "outputs": [],
   "source": [
    "dataset = tf.data.Dataset.from_tensor_slices((df.values, target.values))\n"
   ]
  },
  {
   "cell_type": "code",
   "execution_count": null,
   "id": "d749aa12",
   "metadata": {},
   "outputs": [],
   "source": [
    "for feat, targ in dataset.take(5):\n",
    "    print ('Features: {}, Target: {}'.format(feat, targ))\n",
    "  \n",
    "\n",
    "train_dataset = dataset.shuffle(len(df)).batch(1)\n"
   ]
  },
  {
   "cell_type": "code",
   "execution_count": null,
   "id": "31c35d68",
   "metadata": {},
   "outputs": [],
   "source": [
    "def get_compiled_model():\n",
    "    model = tf.keras.Sequential([\n",
    "      tf.keras.layers.Dense(10, activation='relu'),\n",
    "      tf.keras.layers.Dense(10, activation='relu'),\n",
    "      tf.keras.layers.Dense(1, activation='sigmoid')\n",
    "    ])\n",
    "    \n",
    "    model.compile(optimizer='adam',\n",
    "                  loss='binary_crossentropy',\n",
    "                  metrics=['accuracy'])\n",
    "    \n",
    "    return model\n",
    "\n",
    "\n",
    "model = get_compiled_model()\n"
   ]
  },
  {
   "cell_type": "code",
   "execution_count": null,
   "id": "995eb4bb",
   "metadata": {},
   "outputs": [],
   "source": [
    "\n",
    "###############################################\n",
    "#                                             #\n",
    "#   Step 4. Train Model                       #\n",
    "#                                             #\n",
    "###############################################\n"
   ]
  },
  {
   "cell_type": "code",
   "execution_count": null,
   "id": "08a327ea",
   "metadata": {},
   "outputs": [],
   "source": [
    "\n",
    "import logging\n",
    "logging.getLogger(\"tensorflow\").setLevel(logging.ERROR)"
   ]
  },
  {
   "cell_type": "code",
   "execution_count": null,
   "id": "c3e731d9",
   "metadata": {},
   "outputs": [],
   "source": [
    "history = model.fit(train_dataset, epochs=15)\n"
   ]
  },
  {
   "cell_type": "code",
   "execution_count": null,
   "id": "dec3c6b7",
   "metadata": {},
   "outputs": [],
   "source": [
    "model.summary()\n"
   ]
  },
  {
   "cell_type": "code",
   "execution_count": null,
   "id": "2be6b19e",
   "metadata": {},
   "outputs": [],
   "source": [
    "history.history"
   ]
  },
  {
   "cell_type": "code",
   "execution_count": null,
   "id": "fbbad86f",
   "metadata": {},
   "outputs": [],
   "source": [
    "# print(test_X['Date'].min(),dayData['Date'].max())\n",
    "# dayData.dropna(axis = 0, inplace =True)\n",
    "# print(dayData.tail(10))\n",
    "# print(test_X['Date'].min(),dayData['Date'].max())"
   ]
  },
  {
   "cell_type": "code",
   "execution_count": null,
   "id": "19fe8801",
   "metadata": {},
   "outputs": [],
   "source": [
    "test_X.shape"
   ]
  },
  {
   "cell_type": "code",
   "execution_count": null,
   "id": "87ad3038",
   "metadata": {},
   "outputs": [],
   "source": [
    "test_Y.shape"
   ]
  },
  {
   "cell_type": "code",
   "execution_count": null,
   "id": "50790db6",
   "metadata": {},
   "outputs": [],
   "source": [
    "test_Y.head(3)\n",
    "# test_X.head(5)"
   ]
  },
  {
   "cell_type": "code",
   "execution_count": null,
   "id": "802b670e",
   "metadata": {},
   "outputs": [],
   "source": [
    "getData = pd.merge(test_X,dayData,on='timeseries',how='left')\n",
    "# predicts = pd.merge(getData,test_Y,on='index',how='left')\n",
    "\n",
    "predicts = getData.join(test_Y, how='left')\n",
    "predicts[['Date','TLT_buy_signal']]"
   ]
  },
  {
   "cell_type": "code",
   "execution_count": null,
   "id": "8edf69c0",
   "metadata": {},
   "outputs": [],
   "source": [
    "###############################################\n",
    "#                                             #\n",
    "#   Step 5. Model Evaluation                  #\n",
    "#                                             #\n",
    "###############################################\n",
    "\n",
    "print(\"Evaluate on test data\")\n",
    "results = model.evaluate(test_X, test_Y, batch_size=128) # 128\n",
    "print(\"test loss, test acc:\", results)"
   ]
  },
  {
   "cell_type": "code",
   "execution_count": null,
   "id": "51f8ea64",
   "metadata": {},
   "outputs": [],
   "source": [
    "# Generate predictions (probabilities -- the output of the last layer)\n",
    "# on new data using `predict`\n",
    "print(\"Generate predictions for test data:\")\n",
    "predictions = model.predict(test_X)\n",
    "print(\"Predictions shape:\", predictions.shape)"
   ]
  },
  {
   "cell_type": "code",
   "execution_count": null,
   "id": "b6e2cb81",
   "metadata": {},
   "outputs": [],
   "source": [
    "predictions.head(20)"
   ]
  },
  {
   "cell_type": "code",
   "execution_count": null,
   "id": "41581b31",
   "metadata": {},
   "outputs": [],
   "source": [
    "print('Training Data Period:')\n",
    "print(goalData[0]['Date'].min(),goalData[0]['Date'].max())\n",
    "# pd.DataFrame(goalData)[['Data']]"
   ]
  },
  {
   "cell_type": "code",
   "execution_count": null,
   "id": "d4ac3cf9",
   "metadata": {},
   "outputs": [],
   "source": [
    "print('Testing Data Period:')\n",
    "print(testData[0]['Date'].min(),testData[0]['Date'].max())"
   ]
  },
  {
   "cell_type": "code",
   "execution_count": null,
   "id": "8f66e013",
   "metadata": {},
   "outputs": [],
   "source": [
    "\n",
    "stop = timeit.default_timer()\n",
    "\n",
    "print('Time(seconds): ', int(stop - start) )\n"
   ]
  }
 ],
 "metadata": {
  "kernelspec": {
   "display_name": "Python 3 (ipykernel)",
   "language": "python",
   "name": "python3"
  },
  "language_info": {
   "codemirror_mode": {
    "name": "ipython",
    "version": 3
   },
   "file_extension": ".py",
   "mimetype": "text/x-python",
   "name": "python",
   "nbconvert_exporter": "python",
   "pygments_lexer": "ipython3",
   "version": "3.7.11"
  }
 },
 "nbformat": 4,
 "nbformat_minor": 5
}
